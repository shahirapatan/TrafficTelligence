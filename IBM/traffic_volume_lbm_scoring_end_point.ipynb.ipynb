{
 "cells": [
  {
   "cell_type": "markdown",
   "id": "bad35462-e8c3-443c-8e6f-1595028ab387",
   "metadata": {},
   "source": [
    "## Data Pre-processing./ Exploratory Data Analysis(EDA)"
   ]
  },
  {
   "cell_type": "code",
   "execution_count": 1,
   "id": "f57b574f-450a-4fbf-94ff-4bc8ea7763d0",
   "metadata": {},
   "outputs": [],
   "source": [
    "import pandas as pd\n",
    "import numpy as np\n",
    "import seaborn as sns\n",
    "from matplotlib import pyplot  as plt\n",
    "from scipy import stats\n",
    "import warnings\n",
    "warnings.filterwarnings('ignore')"
   ]
  },
  {
   "cell_type": "code",
   "execution_count": 5,
   "id": "d1f0d8c4-255e-444e-a0fc-231667bfffae",
   "metadata": {},
   "outputs": [],
   "source": [
    "df = pd.read_csv(\"traffic volume.csv\")\n"
   ]
  },
  {
   "cell_type": "markdown",
   "id": "689a07ff-82b7-4576-9f91-aa73a5b5bb4c",
   "metadata": {},
   "source": [
    "### Reading dataset"
   ]
  },
  {
   "cell_type": "code",
   "execution_count": 8,
   "id": "892d58e1-6ba0-40b0-b675-0daa0770b681",
   "metadata": {},
   "outputs": [
    {
     "name": "stdout",
     "output_type": "stream",
     "text": [
      "<class 'pandas.core.frame.DataFrame'>\n",
      "RangeIndex: 48204 entries, 0 to 48203\n",
      "Data columns (total 8 columns):\n",
      " #   Column          Non-Null Count  Dtype  \n",
      "---  ------          --------------  -----  \n",
      " 0   holiday         61 non-null     object \n",
      " 1   temp            48151 non-null  float64\n",
      " 2   rain            48202 non-null  float64\n",
      " 3   snow            48192 non-null  float64\n",
      " 4   weather         48155 non-null  object \n",
      " 5   date            48204 non-null  object \n",
      " 6   Time            48204 non-null  object \n",
      " 7   traffic_volume  48204 non-null  int64  \n",
      "dtypes: float64(3), int64(1), object(4)\n",
      "memory usage: 2.9+ MB\n"
     ]
    }
   ],
   "source": [
    "df.info()"
   ]
  },
  {
   "cell_type": "markdown",
   "id": "b546fa3e-7823-4fbd-abff-e3babef4fd30",
   "metadata": {},
   "source": [
    "### Interpretations:::\n",
    "\n",
    "##### **We have 7 columns and 48204 rows in the dataset**\n",
    "\n",
    "##### **There are almost above 90 percent of null values to holiday column,so we can drop that column**\n",
    "\n",
    "##### **There are 4 object,3 float,and one int data type columns**"
   ]
  },
  {
   "cell_type": "markdown",
   "id": "3e868afc-6860-41a7-90b7-bab641999cce",
   "metadata": {},
   "source": [
    "### To know about the statistical distribution of the data , we can use describe method"
   ]
  },
  {
   "cell_type": "code",
   "execution_count": 10,
   "id": "7e8c96cb-7e67-4298-9774-cc0fb844fde4",
   "metadata": {},
   "outputs": [
    {
     "data": {
      "text/html": [
       "<div>\n",
       "<style scoped>\n",
       "    .dataframe tbody tr th:only-of-type {\n",
       "        vertical-align: middle;\n",
       "    }\n",
       "\n",
       "    .dataframe tbody tr th {\n",
       "        vertical-align: top;\n",
       "    }\n",
       "\n",
       "    .dataframe thead th {\n",
       "        text-align: right;\n",
       "    }\n",
       "</style>\n",
       "<table border=\"1\" class=\"dataframe\">\n",
       "  <thead>\n",
       "    <tr style=\"text-align: right;\">\n",
       "      <th></th>\n",
       "      <th>temp</th>\n",
       "      <th>rain</th>\n",
       "      <th>snow</th>\n",
       "      <th>traffic_volume</th>\n",
       "    </tr>\n",
       "  </thead>\n",
       "  <tbody>\n",
       "    <tr>\n",
       "      <th>count</th>\n",
       "      <td>48151.000000</td>\n",
       "      <td>48202.000000</td>\n",
       "      <td>48192.000000</td>\n",
       "      <td>48204.000000</td>\n",
       "    </tr>\n",
       "    <tr>\n",
       "      <th>mean</th>\n",
       "      <td>281.205351</td>\n",
       "      <td>0.334278</td>\n",
       "      <td>0.000222</td>\n",
       "      <td>3259.818355</td>\n",
       "    </tr>\n",
       "    <tr>\n",
       "      <th>std</th>\n",
       "      <td>13.343675</td>\n",
       "      <td>44.790062</td>\n",
       "      <td>0.008169</td>\n",
       "      <td>1986.860670</td>\n",
       "    </tr>\n",
       "    <tr>\n",
       "      <th>min</th>\n",
       "      <td>0.000000</td>\n",
       "      <td>0.000000</td>\n",
       "      <td>0.000000</td>\n",
       "      <td>0.000000</td>\n",
       "    </tr>\n",
       "    <tr>\n",
       "      <th>25%</th>\n",
       "      <td>272.160000</td>\n",
       "      <td>0.000000</td>\n",
       "      <td>0.000000</td>\n",
       "      <td>1193.000000</td>\n",
       "    </tr>\n",
       "    <tr>\n",
       "      <th>50%</th>\n",
       "      <td>282.460000</td>\n",
       "      <td>0.000000</td>\n",
       "      <td>0.000000</td>\n",
       "      <td>3380.000000</td>\n",
       "    </tr>\n",
       "    <tr>\n",
       "      <th>75%</th>\n",
       "      <td>291.810000</td>\n",
       "      <td>0.000000</td>\n",
       "      <td>0.000000</td>\n",
       "      <td>4933.000000</td>\n",
       "    </tr>\n",
       "    <tr>\n",
       "      <th>max</th>\n",
       "      <td>310.070000</td>\n",
       "      <td>9831.300000</td>\n",
       "      <td>0.510000</td>\n",
       "      <td>7280.000000</td>\n",
       "    </tr>\n",
       "  </tbody>\n",
       "</table>\n",
       "</div>"
      ],
      "text/plain": [
       "               temp          rain          snow  traffic_volume\n",
       "count  48151.000000  48202.000000  48192.000000    48204.000000\n",
       "mean     281.205351      0.334278      0.000222     3259.818355\n",
       "std       13.343675     44.790062      0.008169     1986.860670\n",
       "min        0.000000      0.000000      0.000000        0.000000\n",
       "25%      272.160000      0.000000      0.000000     1193.000000\n",
       "50%      282.460000      0.000000      0.000000     3380.000000\n",
       "75%      291.810000      0.000000      0.000000     4933.000000\n",
       "max      310.070000   9831.300000      0.510000     7280.000000"
      ]
     },
     "execution_count": 10,
     "metadata": {},
     "output_type": "execute_result"
    }
   ],
   "source": [
    "df.describe()"
   ]
  },
  {
   "cell_type": "markdown",
   "id": "c6408dd0-a547-44d7-aeaf-a193a4557432",
   "metadata": {},
   "source": [
    "### Missing values count for \"holiday\" column is more than 90 percent ,so we can drop holiday column::"
   ]
  },
  {
   "cell_type": "code",
   "execution_count": 12,
   "id": "0feb0764-25d4-4e9a-ac7f-7c08d2464993",
   "metadata": {},
   "outputs": [],
   "source": [
    "## df.drop(columns =[\"holiday\"],axis=1,inplace=True)\n"
   ]
  },
  {
   "cell_type": "code",
   "execution_count": 14,
   "id": "5d036b0b-5f83-4905-b0d4-e8e9ac22d43e",
   "metadata": {},
   "outputs": [
    {
     "name": "stdout",
     "output_type": "stream",
     "text": [
      "<class 'pandas.core.frame.DataFrame'>\n",
      "RangeIndex: 48204 entries, 0 to 48203\n",
      "Data columns (total 7 columns):\n",
      " #   Column          Non-Null Count  Dtype  \n",
      "---  ------          --------------  -----  \n",
      " 0   temp            48151 non-null  float64\n",
      " 1   rain            48202 non-null  float64\n",
      " 2   snow            48192 non-null  float64\n",
      " 3   weather         48155 non-null  object \n",
      " 4   date            48204 non-null  object \n",
      " 5   Time            48204 non-null  object \n",
      " 6   traffic_volume  48204 non-null  int64  \n",
      "dtypes: float64(3), int64(1), object(3)\n",
      "memory usage: 2.6+ MB\n"
     ]
    }
   ],
   "source": [
    "df.info()"
   ]
  },
  {
   "cell_type": "markdown",
   "id": "368de1f1-5eb4-4ced-b4bb-4b3c6d26420b",
   "metadata": {},
   "source": [
    "## Handling missing values ::"
   ]
  },
  {
   "cell_type": "markdown",
   "id": "4aa0efa3-9ce3-4fdf-9047-d8868d2e19b6",
   "metadata": {},
   "source": [
    "### **We have  missing values in the data set , there are some methods to fill those missing values**\n",
    "\n",
    "### for numerical ::\n",
    "1. median imputation\n",
    "2. mode imputation\n",
    "3. mean imputation\n",
    "   \n",
    "### for categorical or object types::\n",
    "1. mode imputation\n",
    "2. forward/backward fill\n",
    "3. placeholder imputations can be used"
   ]
  },
  {
   "cell_type": "markdown",
   "id": "8542ea45-b405-4f9c-b2a1-fed84e358c95",
   "metadata": {},
   "source": [
    "### **Relacing Missing values for Numerical columns using mean imputation**"
   ]
  },
  {
   "cell_type": "code",
   "execution_count": 16,
   "id": "71ba363a-7404-4896-9e40-5748bc5dc2f2",
   "metadata": {},
   "outputs": [
    {
     "name": "stdout",
     "output_type": "stream",
     "text": [
      "<class 'pandas.core.frame.DataFrame'>\n",
      "RangeIndex: 48204 entries, 0 to 48203\n",
      "Data columns (total 7 columns):\n",
      " #   Column          Non-Null Count  Dtype  \n",
      "---  ------          --------------  -----  \n",
      " 0   temp            48204 non-null  float64\n",
      " 1   rain            48204 non-null  float64\n",
      " 2   snow            48204 non-null  float64\n",
      " 3   weather         48155 non-null  object \n",
      " 4   date            48204 non-null  object \n",
      " 5   Time            48204 non-null  object \n",
      " 6   traffic_volume  48204 non-null  int64  \n",
      "dtypes: float64(3), int64(1), object(3)\n",
      "memory usage: 2.6+ MB\n"
     ]
    }
   ],
   "source": [
    "import pandas as pd\n",
    "\n",
    "def fill_missing_with_mean(df):\n",
    "    \n",
    "    for column in df.select_dtypes(include=['float64', 'int64']).columns:\n",
    "        df[column].fillna(df[column].mean(), inplace=True)\n",
    "    return df\n",
    "\n",
    "\n",
    "df = fill_missing_with_mean(df)\n",
    "df.info()"
   ]
  },
  {
   "cell_type": "markdown",
   "id": "8c016818-bdb7-435e-895d-45b2ec995bdf",
   "metadata": {},
   "source": [
    "### **Replacing Missing Values For categorical data , using \"place holder imputation\"**\n",
    "### **using mode imputation in order to fill the missing values of categorical datatype**"
   ]
  },
  {
   "cell_type": "code",
   "execution_count": 18,
   "id": "90a6e4b9-71e0-447f-bc92-fb74b5d14af6",
   "metadata": {},
   "outputs": [
    {
     "data": {
      "text/plain": [
       "weather\n",
       "Clouds          15144\n",
       "Clear           13383\n",
       "Mist             5942\n",
       "Rain             5665\n",
       "Snow             2875\n",
       "Drizzle          1818\n",
       "Haze             1359\n",
       "Thunderstorm     1033\n",
       "Fog               912\n",
       "Smoke              20\n",
       "Squall              4\n",
       "Name: count, dtype: int64"
      ]
     },
     "execution_count": 18,
     "metadata": {},
     "output_type": "execute_result"
    }
   ],
   "source": [
    "\n",
    "df[\"weather\"].value_counts()"
   ]
  },
  {
   "cell_type": "code",
   "execution_count": 20,
   "id": "8906ae19-1e88-4f69-8dd4-a4affa873df1",
   "metadata": {},
   "outputs": [],
   "source": [
    "df['weather'].fillna(\"Clouds\", inplace=True)\n"
   ]
  },
  {
   "cell_type": "code",
   "execution_count": 22,
   "id": "7952408d-4914-47d3-9697-95bff68837f7",
   "metadata": {},
   "outputs": [
    {
     "name": "stdout",
     "output_type": "stream",
     "text": [
      "<class 'pandas.core.frame.DataFrame'>\n",
      "RangeIndex: 48204 entries, 0 to 48203\n",
      "Data columns (total 7 columns):\n",
      " #   Column          Non-Null Count  Dtype  \n",
      "---  ------          --------------  -----  \n",
      " 0   temp            48204 non-null  float64\n",
      " 1   rain            48204 non-null  float64\n",
      " 2   snow            48204 non-null  float64\n",
      " 3   weather         48204 non-null  object \n",
      " 4   date            48204 non-null  object \n",
      " 5   Time            48204 non-null  object \n",
      " 6   traffic_volume  48204 non-null  int64  \n",
      "dtypes: float64(3), int64(1), object(3)\n",
      "memory usage: 2.6+ MB\n"
     ]
    }
   ],
   "source": [
    "df.info()"
   ]
  },
  {
   "cell_type": "code",
   "execution_count": 24,
   "id": "ee14190f-37d0-4736-8de6-c07aa383d9fd",
   "metadata": {},
   "outputs": [
    {
     "data": {
      "text/plain": [
       "weather\n",
       "Clouds          15193\n",
       "Clear           13383\n",
       "Mist             5942\n",
       "Rain             5665\n",
       "Snow             2875\n",
       "Drizzle          1818\n",
       "Haze             1359\n",
       "Thunderstorm     1033\n",
       "Fog               912\n",
       "Smoke              20\n",
       "Squall              4\n",
       "Name: count, dtype: int64"
      ]
     },
     "execution_count": 24,
     "metadata": {},
     "output_type": "execute_result"
    }
   ],
   "source": [
    "df[\"weather\"].value_counts()"
   ]
  },
  {
   "cell_type": "markdown",
   "id": "f6d31bcc-08a3-4d0a-acb9-da3dfd47d132",
   "metadata": {},
   "source": [
    "## Data Visualization::"
   ]
  },
  {
   "cell_type": "code",
   "execution_count": 26,
   "id": "e428245f-2336-4fc3-9caa-04b43448302f",
   "metadata": {},
   "outputs": [
    {
     "name": "stdout",
     "output_type": "stream",
     "text": [
      "<class 'pandas.core.frame.DataFrame'>\n",
      "RangeIndex: 48204 entries, 0 to 48203\n",
      "Data columns (total 7 columns):\n",
      " #   Column          Non-Null Count  Dtype  \n",
      "---  ------          --------------  -----  \n",
      " 0   temp            48204 non-null  float64\n",
      " 1   rain            48204 non-null  float64\n",
      " 2   snow            48204 non-null  float64\n",
      " 3   weather         48204 non-null  object \n",
      " 4   date            48204 non-null  object \n",
      " 5   Time            48204 non-null  object \n",
      " 6   traffic_volume  48204 non-null  int64  \n",
      "dtypes: float64(3), int64(1), object(3)\n",
      "memory usage: 2.6+ MB\n"
     ]
    }
   ],
   "source": [
    "df.info()"
   ]
  },
  {
   "cell_type": "code",
   "execution_count": 28,
   "id": "3aee6d74-b117-400f-930c-e5b1c25a5ba8",
   "metadata": {},
   "outputs": [
    {
     "data": {
      "text/html": [
       "<div>\n",
       "<style scoped>\n",
       "    .dataframe tbody tr th:only-of-type {\n",
       "        vertical-align: middle;\n",
       "    }\n",
       "\n",
       "    .dataframe tbody tr th {\n",
       "        vertical-align: top;\n",
       "    }\n",
       "\n",
       "    .dataframe thead th {\n",
       "        text-align: right;\n",
       "    }\n",
       "</style>\n",
       "<table border=\"1\" class=\"dataframe\">\n",
       "  <thead>\n",
       "    <tr style=\"text-align: right;\">\n",
       "      <th></th>\n",
       "      <th>temp</th>\n",
       "      <th>rain</th>\n",
       "      <th>snow</th>\n",
       "      <th>weather</th>\n",
       "      <th>date</th>\n",
       "      <th>Time</th>\n",
       "      <th>traffic_volume</th>\n",
       "    </tr>\n",
       "  </thead>\n",
       "  <tbody>\n",
       "    <tr>\n",
       "      <th>0</th>\n",
       "      <td>288.28</td>\n",
       "      <td>0.0</td>\n",
       "      <td>0.0</td>\n",
       "      <td>Clouds</td>\n",
       "      <td>02-10-2012</td>\n",
       "      <td>09:00:00</td>\n",
       "      <td>5545</td>\n",
       "    </tr>\n",
       "    <tr>\n",
       "      <th>1</th>\n",
       "      <td>289.36</td>\n",
       "      <td>0.0</td>\n",
       "      <td>0.0</td>\n",
       "      <td>Clouds</td>\n",
       "      <td>02-10-2012</td>\n",
       "      <td>10:00:00</td>\n",
       "      <td>4516</td>\n",
       "    </tr>\n",
       "    <tr>\n",
       "      <th>2</th>\n",
       "      <td>289.58</td>\n",
       "      <td>0.0</td>\n",
       "      <td>0.0</td>\n",
       "      <td>Clouds</td>\n",
       "      <td>02-10-2012</td>\n",
       "      <td>11:00:00</td>\n",
       "      <td>4767</td>\n",
       "    </tr>\n",
       "    <tr>\n",
       "      <th>3</th>\n",
       "      <td>290.13</td>\n",
       "      <td>0.0</td>\n",
       "      <td>0.0</td>\n",
       "      <td>Clouds</td>\n",
       "      <td>02-10-2012</td>\n",
       "      <td>12:00:00</td>\n",
       "      <td>5026</td>\n",
       "    </tr>\n",
       "    <tr>\n",
       "      <th>4</th>\n",
       "      <td>291.14</td>\n",
       "      <td>0.0</td>\n",
       "      <td>0.0</td>\n",
       "      <td>Clouds</td>\n",
       "      <td>02-10-2012</td>\n",
       "      <td>13:00:00</td>\n",
       "      <td>4918</td>\n",
       "    </tr>\n",
       "  </tbody>\n",
       "</table>\n",
       "</div>"
      ],
      "text/plain": [
       "     temp  rain  snow weather        date      Time  traffic_volume\n",
       "0  288.28   0.0   0.0  Clouds  02-10-2012  09:00:00            5545\n",
       "1  289.36   0.0   0.0  Clouds  02-10-2012  10:00:00            4516\n",
       "2  289.58   0.0   0.0  Clouds  02-10-2012  11:00:00            4767\n",
       "3  290.13   0.0   0.0  Clouds  02-10-2012  12:00:00            5026\n",
       "4  291.14   0.0   0.0  Clouds  02-10-2012  13:00:00            4918"
      ]
     },
     "execution_count": 28,
     "metadata": {},
     "output_type": "execute_result"
    }
   ],
   "source": [
    "df.head()"
   ]
  },
  {
   "cell_type": "markdown",
   "id": "e130f4c2-c38d-4345-a75f-a4ffd0814265",
   "metadata": {},
   "source": [
    "### Splitting date column into date /month / year "
   ]
  },
  {
   "cell_type": "code",
   "execution_count": 30,
   "id": "6d5c22cb-10d0-4138-ae4a-b12b68a0bf0a",
   "metadata": {},
   "outputs": [],
   "source": [
    "df[[\"day\",\"month\",\"year\"]] = df[\"date\"].str.split(\"-\" , expand= True)"
   ]
  },
  {
   "cell_type": "markdown",
   "id": "9ff8c761-7509-474f-8741-a8dd0d6e19d8",
   "metadata": {},
   "source": [
    "### Splitting date column into hours /minutes/ seconds"
   ]
  },
  {
   "cell_type": "code",
   "execution_count": 33,
   "id": "356f47a9-165d-494f-96e2-b1fbef5f8ed9",
   "metadata": {},
   "outputs": [],
   "source": [
    "df[[\"hours\",\"minutes\",\"seconds\"]] = df[\"Time\"].str.split(\":\",expand= True)"
   ]
  },
  {
   "cell_type": "code",
   "execution_count": 35,
   "id": "afa7736a-2916-4309-a965-63668d5cafec",
   "metadata": {},
   "outputs": [],
   "source": [
    "df.drop(columns=[\"date\",\"Time\"],axis= 1,inplace=True)"
   ]
  },
  {
   "cell_type": "code",
   "execution_count": 37,
   "id": "2990218d-b776-4166-959a-b3e05ad84f91",
   "metadata": {},
   "outputs": [
    {
     "data": {
      "text/html": [
       "<div>\n",
       "<style scoped>\n",
       "    .dataframe tbody tr th:only-of-type {\n",
       "        vertical-align: middle;\n",
       "    }\n",
       "\n",
       "    .dataframe tbody tr th {\n",
       "        vertical-align: top;\n",
       "    }\n",
       "\n",
       "    .dataframe thead th {\n",
       "        text-align: right;\n",
       "    }\n",
       "</style>\n",
       "<table border=\"1\" class=\"dataframe\">\n",
       "  <thead>\n",
       "    <tr style=\"text-align: right;\">\n",
       "      <th></th>\n",
       "      <th>temp</th>\n",
       "      <th>rain</th>\n",
       "      <th>snow</th>\n",
       "      <th>weather</th>\n",
       "      <th>traffic_volume</th>\n",
       "      <th>day</th>\n",
       "      <th>month</th>\n",
       "      <th>year</th>\n",
       "      <th>hours</th>\n",
       "      <th>minutes</th>\n",
       "      <th>seconds</th>\n",
       "    </tr>\n",
       "  </thead>\n",
       "  <tbody>\n",
       "    <tr>\n",
       "      <th>0</th>\n",
       "      <td>288.28</td>\n",
       "      <td>0.0</td>\n",
       "      <td>0.0</td>\n",
       "      <td>Clouds</td>\n",
       "      <td>5545</td>\n",
       "      <td>02</td>\n",
       "      <td>10</td>\n",
       "      <td>2012</td>\n",
       "      <td>09</td>\n",
       "      <td>00</td>\n",
       "      <td>00</td>\n",
       "    </tr>\n",
       "    <tr>\n",
       "      <th>1</th>\n",
       "      <td>289.36</td>\n",
       "      <td>0.0</td>\n",
       "      <td>0.0</td>\n",
       "      <td>Clouds</td>\n",
       "      <td>4516</td>\n",
       "      <td>02</td>\n",
       "      <td>10</td>\n",
       "      <td>2012</td>\n",
       "      <td>10</td>\n",
       "      <td>00</td>\n",
       "      <td>00</td>\n",
       "    </tr>\n",
       "    <tr>\n",
       "      <th>2</th>\n",
       "      <td>289.58</td>\n",
       "      <td>0.0</td>\n",
       "      <td>0.0</td>\n",
       "      <td>Clouds</td>\n",
       "      <td>4767</td>\n",
       "      <td>02</td>\n",
       "      <td>10</td>\n",
       "      <td>2012</td>\n",
       "      <td>11</td>\n",
       "      <td>00</td>\n",
       "      <td>00</td>\n",
       "    </tr>\n",
       "    <tr>\n",
       "      <th>3</th>\n",
       "      <td>290.13</td>\n",
       "      <td>0.0</td>\n",
       "      <td>0.0</td>\n",
       "      <td>Clouds</td>\n",
       "      <td>5026</td>\n",
       "      <td>02</td>\n",
       "      <td>10</td>\n",
       "      <td>2012</td>\n",
       "      <td>12</td>\n",
       "      <td>00</td>\n",
       "      <td>00</td>\n",
       "    </tr>\n",
       "    <tr>\n",
       "      <th>4</th>\n",
       "      <td>291.14</td>\n",
       "      <td>0.0</td>\n",
       "      <td>0.0</td>\n",
       "      <td>Clouds</td>\n",
       "      <td>4918</td>\n",
       "      <td>02</td>\n",
       "      <td>10</td>\n",
       "      <td>2012</td>\n",
       "      <td>13</td>\n",
       "      <td>00</td>\n",
       "      <td>00</td>\n",
       "    </tr>\n",
       "  </tbody>\n",
       "</table>\n",
       "</div>"
      ],
      "text/plain": [
       "     temp  rain  snow weather  traffic_volume day month  year hours minutes  \\\n",
       "0  288.28   0.0   0.0  Clouds            5545  02    10  2012    09      00   \n",
       "1  289.36   0.0   0.0  Clouds            4516  02    10  2012    10      00   \n",
       "2  289.58   0.0   0.0  Clouds            4767  02    10  2012    11      00   \n",
       "3  290.13   0.0   0.0  Clouds            5026  02    10  2012    12      00   \n",
       "4  291.14   0.0   0.0  Clouds            4918  02    10  2012    13      00   \n",
       "\n",
       "  seconds  \n",
       "0      00  \n",
       "1      00  \n",
       "2      00  \n",
       "3      00  \n",
       "4      00  "
      ]
     },
     "execution_count": 37,
     "metadata": {},
     "output_type": "execute_result"
    }
   ],
   "source": [
    "df.head()"
   ]
  },
  {
   "cell_type": "code",
   "execution_count": 39,
   "id": "417251cb-2051-4f39-921a-79fb1405ff0f",
   "metadata": {},
   "outputs": [],
   "source": [
    "from sklearn.preprocessing import OrdinalEncoder\n",
    "\n",
    "weather_order = [\n",
    "    'Clear', 'Mist', 'Clouds', 'Haze', 'Drizzle', 'Rain', 'Snow',\n",
    "    'Fog', 'Smoke', 'Thunderstorm', 'Squall'\n",
    "]\n",
    "encoder = OrdinalEncoder(categories=[weather_order])\n",
    "\n",
    "# Apply ordinal encoding to the 'weather' column\n",
    "df['weather_encoded'] = encoder.fit_transform(df[['weather']])"
   ]
  },
  {
   "cell_type": "code",
   "execution_count": 40,
   "id": "cf96c4c2-b0cc-421b-b50b-b82d65d9af19",
   "metadata": {},
   "outputs": [],
   "source": [
    "df.drop(columns=[\"weather\"],axis =1,inplace=True)"
   ]
  },
  {
   "cell_type": "code",
   "execution_count": 41,
   "id": "74d6ef3f-1be6-4d2f-87e3-e5d317291871",
   "metadata": {},
   "outputs": [
    {
     "data": {
      "text/html": [
       "<div>\n",
       "<style scoped>\n",
       "    .dataframe tbody tr th:only-of-type {\n",
       "        vertical-align: middle;\n",
       "    }\n",
       "\n",
       "    .dataframe tbody tr th {\n",
       "        vertical-align: top;\n",
       "    }\n",
       "\n",
       "    .dataframe thead th {\n",
       "        text-align: right;\n",
       "    }\n",
       "</style>\n",
       "<table border=\"1\" class=\"dataframe\">\n",
       "  <thead>\n",
       "    <tr style=\"text-align: right;\">\n",
       "      <th></th>\n",
       "      <th>temp</th>\n",
       "      <th>rain</th>\n",
       "      <th>snow</th>\n",
       "      <th>traffic_volume</th>\n",
       "      <th>day</th>\n",
       "      <th>month</th>\n",
       "      <th>year</th>\n",
       "      <th>hours</th>\n",
       "      <th>minutes</th>\n",
       "      <th>seconds</th>\n",
       "      <th>weather_encoded</th>\n",
       "    </tr>\n",
       "  </thead>\n",
       "  <tbody>\n",
       "    <tr>\n",
       "      <th>0</th>\n",
       "      <td>288.28</td>\n",
       "      <td>0.0</td>\n",
       "      <td>0.0</td>\n",
       "      <td>5545</td>\n",
       "      <td>02</td>\n",
       "      <td>10</td>\n",
       "      <td>2012</td>\n",
       "      <td>09</td>\n",
       "      <td>00</td>\n",
       "      <td>00</td>\n",
       "      <td>2.0</td>\n",
       "    </tr>\n",
       "    <tr>\n",
       "      <th>1</th>\n",
       "      <td>289.36</td>\n",
       "      <td>0.0</td>\n",
       "      <td>0.0</td>\n",
       "      <td>4516</td>\n",
       "      <td>02</td>\n",
       "      <td>10</td>\n",
       "      <td>2012</td>\n",
       "      <td>10</td>\n",
       "      <td>00</td>\n",
       "      <td>00</td>\n",
       "      <td>2.0</td>\n",
       "    </tr>\n",
       "    <tr>\n",
       "      <th>2</th>\n",
       "      <td>289.58</td>\n",
       "      <td>0.0</td>\n",
       "      <td>0.0</td>\n",
       "      <td>4767</td>\n",
       "      <td>02</td>\n",
       "      <td>10</td>\n",
       "      <td>2012</td>\n",
       "      <td>11</td>\n",
       "      <td>00</td>\n",
       "      <td>00</td>\n",
       "      <td>2.0</td>\n",
       "    </tr>\n",
       "    <tr>\n",
       "      <th>3</th>\n",
       "      <td>290.13</td>\n",
       "      <td>0.0</td>\n",
       "      <td>0.0</td>\n",
       "      <td>5026</td>\n",
       "      <td>02</td>\n",
       "      <td>10</td>\n",
       "      <td>2012</td>\n",
       "      <td>12</td>\n",
       "      <td>00</td>\n",
       "      <td>00</td>\n",
       "      <td>2.0</td>\n",
       "    </tr>\n",
       "    <tr>\n",
       "      <th>4</th>\n",
       "      <td>291.14</td>\n",
       "      <td>0.0</td>\n",
       "      <td>0.0</td>\n",
       "      <td>4918</td>\n",
       "      <td>02</td>\n",
       "      <td>10</td>\n",
       "      <td>2012</td>\n",
       "      <td>13</td>\n",
       "      <td>00</td>\n",
       "      <td>00</td>\n",
       "      <td>2.0</td>\n",
       "    </tr>\n",
       "  </tbody>\n",
       "</table>\n",
       "</div>"
      ],
      "text/plain": [
       "     temp  rain  snow  traffic_volume day month  year hours minutes seconds  \\\n",
       "0  288.28   0.0   0.0            5545  02    10  2012    09      00      00   \n",
       "1  289.36   0.0   0.0            4516  02    10  2012    10      00      00   \n",
       "2  289.58   0.0   0.0            4767  02    10  2012    11      00      00   \n",
       "3  290.13   0.0   0.0            5026  02    10  2012    12      00      00   \n",
       "4  291.14   0.0   0.0            4918  02    10  2012    13      00      00   \n",
       "\n",
       "   weather_encoded  \n",
       "0              2.0  \n",
       "1              2.0  \n",
       "2              2.0  \n",
       "3              2.0  \n",
       "4              2.0  "
      ]
     },
     "execution_count": 41,
     "metadata": {},
     "output_type": "execute_result"
    }
   ],
   "source": [
    "df.head()"
   ]
  },
  {
   "cell_type": "markdown",
   "id": "556c04a3-b2b4-4c45-86f9-44094fa5dda8",
   "metadata": {},
   "source": [
    "### The correlation matrix  reflects the relationships between the columns in the dataset. \n",
    "\n",
    "1. **Perfect Positive Correlation (1.000)\n",
    "For example, Feature1 and Feature3 have a correlation of 1.000.\n",
    "This means as Feature1 increases, Feature3 increases in the same proportion.\n",
    "Reason: The values of these columns might be linearly related.**\n",
    "\n",
    "2. **Perfect Negative Correlation (-1.000)\n",
    "For example, Feature1 and Feature2 have a correlation of -1.000.\n",
    "This means as Feature1 increases, Feature2 decreases proportionally.\n",
    "Reason: These columns might be inversely related (e.g., one increases while the other decreases).**\n",
    "\n",
    "3. **High Negative or Positive Correlation (Close to ±1)\n",
    "Feature4 has a correlation of -0.990 with Feature1.\n",
    "This indicates a very strong negative relationship, but not perfect.\n",
    "Reason: Feature4 values might vary slightly compared to Feature1 but still show a nearly linear inverse trend.**\n",
    "\n",
    "\n",
    "**NOTE :: CORRELATION MATRIX REQUIRES ONLY NUMERIC DATA ,IT CANNOT ACCEPT STRING/OBJECT/CATEGORY DATA**"
   ]
  },
  {
   "cell_type": "markdown",
   "id": "893f6a73-4408-47db-8e01-7a686b59e2ae",
   "metadata": {},
   "source": [
    "\n",
    "\n",
    "### To see correaltion matrix - we want to convert object type to numerical type  because correlation does not accept string type"
   ]
  },
  {
   "cell_type": "code",
   "execution_count": 45,
   "id": "68179110-b58e-4076-bdfb-b738e1472c9b",
   "metadata": {},
   "outputs": [
    {
     "data": {
      "text/html": [
       "<div>\n",
       "<style scoped>\n",
       "    .dataframe tbody tr th:only-of-type {\n",
       "        vertical-align: middle;\n",
       "    }\n",
       "\n",
       "    .dataframe tbody tr th {\n",
       "        vertical-align: top;\n",
       "    }\n",
       "\n",
       "    .dataframe thead th {\n",
       "        text-align: right;\n",
       "    }\n",
       "</style>\n",
       "<table border=\"1\" class=\"dataframe\">\n",
       "  <thead>\n",
       "    <tr style=\"text-align: right;\">\n",
       "      <th></th>\n",
       "      <th>temp</th>\n",
       "      <th>rain</th>\n",
       "      <th>snow</th>\n",
       "      <th>traffic_volume</th>\n",
       "      <th>day</th>\n",
       "      <th>month</th>\n",
       "      <th>year</th>\n",
       "      <th>hours</th>\n",
       "      <th>minutes</th>\n",
       "      <th>seconds</th>\n",
       "      <th>weather_encoded</th>\n",
       "    </tr>\n",
       "  </thead>\n",
       "  <tbody>\n",
       "    <tr>\n",
       "      <th>temp</th>\n",
       "      <td>1.000000</td>\n",
       "      <td>0.009070</td>\n",
       "      <td>-0.019758</td>\n",
       "      <td>0.130034</td>\n",
       "      <td>0.022763</td>\n",
       "      <td>0.223837</td>\n",
       "      <td>0.134861</td>\n",
       "      <td>0.111811</td>\n",
       "      <td>NaN</td>\n",
       "      <td>NaN</td>\n",
       "      <td>0.019146</td>\n",
       "    </tr>\n",
       "    <tr>\n",
       "      <th>rain</th>\n",
       "      <td>0.009070</td>\n",
       "      <td>1.000000</td>\n",
       "      <td>-0.000090</td>\n",
       "      <td>0.004714</td>\n",
       "      <td>-0.002293</td>\n",
       "      <td>0.001298</td>\n",
       "      <td>0.000442</td>\n",
       "      <td>0.003421</td>\n",
       "      <td>NaN</td>\n",
       "      <td>NaN</td>\n",
       "      <td>0.009051</td>\n",
       "    </tr>\n",
       "    <tr>\n",
       "      <th>snow</th>\n",
       "      <td>-0.019758</td>\n",
       "      <td>-0.000090</td>\n",
       "      <td>1.000000</td>\n",
       "      <td>0.000735</td>\n",
       "      <td>0.015784</td>\n",
       "      <td>0.020420</td>\n",
       "      <td>-0.003530</td>\n",
       "      <td>0.009850</td>\n",
       "      <td>NaN</td>\n",
       "      <td>NaN</td>\n",
       "      <td>0.020555</td>\n",
       "    </tr>\n",
       "    <tr>\n",
       "      <th>traffic_volume</th>\n",
       "      <td>0.130034</td>\n",
       "      <td>0.004714</td>\n",
       "      <td>0.000735</td>\n",
       "      <td>1.000000</td>\n",
       "      <td>-0.007587</td>\n",
       "      <td>-0.002533</td>\n",
       "      <td>0.004753</td>\n",
       "      <td>0.352401</td>\n",
       "      <td>NaN</td>\n",
       "      <td>NaN</td>\n",
       "      <td>0.007550</td>\n",
       "    </tr>\n",
       "    <tr>\n",
       "      <th>day</th>\n",
       "      <td>0.022763</td>\n",
       "      <td>-0.002293</td>\n",
       "      <td>0.015784</td>\n",
       "      <td>-0.007587</td>\n",
       "      <td>1.000000</td>\n",
       "      <td>0.008614</td>\n",
       "      <td>0.012192</td>\n",
       "      <td>-0.009373</td>\n",
       "      <td>NaN</td>\n",
       "      <td>NaN</td>\n",
       "      <td>0.031772</td>\n",
       "    </tr>\n",
       "    <tr>\n",
       "      <th>month</th>\n",
       "      <td>0.223837</td>\n",
       "      <td>0.001298</td>\n",
       "      <td>0.020420</td>\n",
       "      <td>-0.002533</td>\n",
       "      <td>0.008614</td>\n",
       "      <td>1.000000</td>\n",
       "      <td>-0.158688</td>\n",
       "      <td>0.001865</td>\n",
       "      <td>NaN</td>\n",
       "      <td>NaN</td>\n",
       "      <td>0.015911</td>\n",
       "    </tr>\n",
       "    <tr>\n",
       "      <th>year</th>\n",
       "      <td>0.134861</td>\n",
       "      <td>0.000442</td>\n",
       "      <td>-0.003530</td>\n",
       "      <td>0.004753</td>\n",
       "      <td>0.012192</td>\n",
       "      <td>-0.158688</td>\n",
       "      <td>1.000000</td>\n",
       "      <td>-0.007542</td>\n",
       "      <td>NaN</td>\n",
       "      <td>NaN</td>\n",
       "      <td>0.021435</td>\n",
       "    </tr>\n",
       "    <tr>\n",
       "      <th>hours</th>\n",
       "      <td>0.111811</td>\n",
       "      <td>0.003421</td>\n",
       "      <td>0.009850</td>\n",
       "      <td>0.352401</td>\n",
       "      <td>-0.009373</td>\n",
       "      <td>0.001865</td>\n",
       "      <td>-0.007542</td>\n",
       "      <td>1.000000</td>\n",
       "      <td>NaN</td>\n",
       "      <td>NaN</td>\n",
       "      <td>-0.000433</td>\n",
       "    </tr>\n",
       "    <tr>\n",
       "      <th>minutes</th>\n",
       "      <td>NaN</td>\n",
       "      <td>NaN</td>\n",
       "      <td>NaN</td>\n",
       "      <td>NaN</td>\n",
       "      <td>NaN</td>\n",
       "      <td>NaN</td>\n",
       "      <td>NaN</td>\n",
       "      <td>NaN</td>\n",
       "      <td>NaN</td>\n",
       "      <td>NaN</td>\n",
       "      <td>NaN</td>\n",
       "    </tr>\n",
       "    <tr>\n",
       "      <th>seconds</th>\n",
       "      <td>NaN</td>\n",
       "      <td>NaN</td>\n",
       "      <td>NaN</td>\n",
       "      <td>NaN</td>\n",
       "      <td>NaN</td>\n",
       "      <td>NaN</td>\n",
       "      <td>NaN</td>\n",
       "      <td>NaN</td>\n",
       "      <td>NaN</td>\n",
       "      <td>NaN</td>\n",
       "      <td>NaN</td>\n",
       "    </tr>\n",
       "    <tr>\n",
       "      <th>weather_encoded</th>\n",
       "      <td>0.019146</td>\n",
       "      <td>0.009051</td>\n",
       "      <td>0.020555</td>\n",
       "      <td>0.007550</td>\n",
       "      <td>0.031772</td>\n",
       "      <td>0.015911</td>\n",
       "      <td>0.021435</td>\n",
       "      <td>-0.000433</td>\n",
       "      <td>NaN</td>\n",
       "      <td>NaN</td>\n",
       "      <td>1.000000</td>\n",
       "    </tr>\n",
       "  </tbody>\n",
       "</table>\n",
       "</div>"
      ],
      "text/plain": [
       "                     temp      rain      snow  traffic_volume       day  \\\n",
       "temp             1.000000  0.009070 -0.019758        0.130034  0.022763   \n",
       "rain             0.009070  1.000000 -0.000090        0.004714 -0.002293   \n",
       "snow            -0.019758 -0.000090  1.000000        0.000735  0.015784   \n",
       "traffic_volume   0.130034  0.004714  0.000735        1.000000 -0.007587   \n",
       "day              0.022763 -0.002293  0.015784       -0.007587  1.000000   \n",
       "month            0.223837  0.001298  0.020420       -0.002533  0.008614   \n",
       "year             0.134861  0.000442 -0.003530        0.004753  0.012192   \n",
       "hours            0.111811  0.003421  0.009850        0.352401 -0.009373   \n",
       "minutes               NaN       NaN       NaN             NaN       NaN   \n",
       "seconds               NaN       NaN       NaN             NaN       NaN   \n",
       "weather_encoded  0.019146  0.009051  0.020555        0.007550  0.031772   \n",
       "\n",
       "                    month      year     hours  minutes  seconds  \\\n",
       "temp             0.223837  0.134861  0.111811      NaN      NaN   \n",
       "rain             0.001298  0.000442  0.003421      NaN      NaN   \n",
       "snow             0.020420 -0.003530  0.009850      NaN      NaN   \n",
       "traffic_volume  -0.002533  0.004753  0.352401      NaN      NaN   \n",
       "day              0.008614  0.012192 -0.009373      NaN      NaN   \n",
       "month            1.000000 -0.158688  0.001865      NaN      NaN   \n",
       "year            -0.158688  1.000000 -0.007542      NaN      NaN   \n",
       "hours            0.001865 -0.007542  1.000000      NaN      NaN   \n",
       "minutes               NaN       NaN       NaN      NaN      NaN   \n",
       "seconds               NaN       NaN       NaN      NaN      NaN   \n",
       "weather_encoded  0.015911  0.021435 -0.000433      NaN      NaN   \n",
       "\n",
       "                 weather_encoded  \n",
       "temp                    0.019146  \n",
       "rain                    0.009051  \n",
       "snow                    0.020555  \n",
       "traffic_volume          0.007550  \n",
       "day                     0.031772  \n",
       "month                   0.015911  \n",
       "year                    0.021435  \n",
       "hours                  -0.000433  \n",
       "minutes                      NaN  \n",
       "seconds                      NaN  \n",
       "weather_encoded         1.000000  "
      ]
     },
     "execution_count": 45,
     "metadata": {},
     "output_type": "execute_result"
    }
   ],
   "source": [
    "correlation_matrix = df.corr()\n",
    "correlation_matrix"
   ]
  },
  {
   "cell_type": "code",
   "execution_count": 329,
   "id": "8a56a584-a03e-489d-bcd4-03fa6e617cb0",
   "metadata": {},
   "outputs": [
    {
     "data": {
      "text/plain": [
       "<Axes: >"
      ]
     },
     "execution_count": 329,
     "metadata": {},
     "output_type": "execute_result"
    },
    {
     "data": {
      "image/png": "[encoded data removed]",
      "text/plain": [
       "<Figure size 640x480 with 2 Axes>"
      ]
     },
     "metadata": {},
     "output_type": "display_data"
    }
   ],
   "source": [
    "sns.heatmap(correlation_matrix)"
   ]
  },
  {
   "cell_type": "markdown",
   "id": "3ee1682b-4cce-4b8a-91f6-2462001e50c2",
   "metadata": {},
   "source": [
    "### Pair Plot: Plot pairwise relationships in a dataset."
   ]
  },
  {
   "cell_type": "markdown",
   "id": "7bc4caff-5e52-4498-830a-04f0e5eaf97a",
   "metadata": {},
   "source": [
    "**A pair plot is used to understand the best set of features to explain a relationship between two variables or to form the most separated clusters.\n",
    "It also helps to form some simple classification models by drawing some simple lines or making a linear separation in our data-set.**"
   ]
  },
  {
   "cell_type": "code",
   "execution_count": 47,
   "id": "046a498b-1a55-4758-af9a-b92510cce1df",
   "metadata": {},
   "outputs": [
    {
     "data": {
      "text/plain": [
       "<seaborn.axisgrid.PairGrid at 0x131c6bdfdd0>"
      ]
     },
     "execution_count": 47,
     "metadata": {},
     "output_type": "execute_result"
    },
    {
     "data": {
      "image/png": "[encoded data removed]",
      "text/plain": [
       "<Figure size 1250x1250 with 30 Axes>"
      ]
     },
     "metadata": {},
     "output_type": "display_data"
    }
   ],
   "source": [
    "sns.pairplot(df)"
   ]
  },
  {
   "cell_type": "markdown",
   "id": "6276c61a-d313-4efa-a778-71f554a31ddb",
   "metadata": {},
   "source": [
    "### Box Plot:\n",
    "\n",
    "**Box-plot is a type of chart often used in explanatory data analysis. Box plots visually show the distribution of numerical data and \n",
    "skewness through displaying the data quartiles (or percentiles) and averages.**"
   ]
  },
  {
   "cell_type": "code",
   "execution_count": 49,
   "id": "aa333ce2-6a2c-427c-a413-662013520a28",
   "metadata": {},
   "outputs": [
    {
     "data": {
      "text/plain": [
       "<Axes: >"
      ]
     },
     "execution_count": 49,
     "metadata": {},
     "output_type": "execute_result"
    },
    {
     "data": {
      "image/png": "[encoded data removed]",
      "text/plain": [
       "<Figure size 640x480 with 1 Axes>"
      ]
     },
     "metadata": {},
     "output_type": "display_data"
    }
   ],
   "source": [
    "df.boxplot()"
   ]
  },
  {
   "cell_type": "markdown",
   "id": "5d9b3495-027a-4d39-ab4e-e5f017289075",
   "metadata": {},
   "source": [
    "## **Splitting the Dataset into Dependent and Independent variable**"
   ]
  },
  {
   "cell_type": "code",
   "execution_count": 51,
   "id": "c298d32f-8297-4380-9aa1-36f866e4d4a2",
   "metadata": {},
   "outputs": [],
   "source": [
    "y = df[\"traffic_volume\"] \n",
    "\n",
    "X = df.drop(columns=[\"traffic_volume\"],axis=1)"
   ]
  },
  {
   "cell_type": "code",
   "execution_count": 53,
   "id": "a859e05c-bc13-43ab-b06e-d8880b71f42b",
   "metadata": {},
   "outputs": [
    {
     "data": {
      "text/html": [
       "<div>\n",
       "<style scoped>\n",
       "    .dataframe tbody tr th:only-of-type {\n",
       "        vertical-align: middle;\n",
       "    }\n",
       "\n",
       "    .dataframe tbody tr th {\n",
       "        vertical-align: top;\n",
       "    }\n",
       "\n",
       "    .dataframe thead th {\n",
       "        text-align: right;\n",
       "    }\n",
       "</style>\n",
       "<table border=\"1\" class=\"dataframe\">\n",
       "  <thead>\n",
       "    <tr style=\"text-align: right;\">\n",
       "      <th></th>\n",
       "      <th>temp</th>\n",
       "      <th>rain</th>\n",
       "      <th>snow</th>\n",
       "      <th>day</th>\n",
       "      <th>month</th>\n",
       "      <th>year</th>\n",
       "      <th>hours</th>\n",
       "      <th>minutes</th>\n",
       "      <th>seconds</th>\n",
       "      <th>weather_encoded</th>\n",
       "    </tr>\n",
       "  </thead>\n",
       "  <tbody>\n",
       "    <tr>\n",
       "      <th>0</th>\n",
       "      <td>288.28</td>\n",
       "      <td>0.0</td>\n",
       "      <td>0.0</td>\n",
       "      <td>02</td>\n",
       "      <td>10</td>\n",
       "      <td>2012</td>\n",
       "      <td>09</td>\n",
       "      <td>00</td>\n",
       "      <td>00</td>\n",
       "      <td>2.0</td>\n",
       "    </tr>\n",
       "    <tr>\n",
       "      <th>1</th>\n",
       "      <td>289.36</td>\n",
       "      <td>0.0</td>\n",
       "      <td>0.0</td>\n",
       "      <td>02</td>\n",
       "      <td>10</td>\n",
       "      <td>2012</td>\n",
       "      <td>10</td>\n",
       "      <td>00</td>\n",
       "      <td>00</td>\n",
       "      <td>2.0</td>\n",
       "    </tr>\n",
       "    <tr>\n",
       "      <th>2</th>\n",
       "      <td>289.58</td>\n",
       "      <td>0.0</td>\n",
       "      <td>0.0</td>\n",
       "      <td>02</td>\n",
       "      <td>10</td>\n",
       "      <td>2012</td>\n",
       "      <td>11</td>\n",
       "      <td>00</td>\n",
       "      <td>00</td>\n",
       "      <td>2.0</td>\n",
       "    </tr>\n",
       "    <tr>\n",
       "      <th>3</th>\n",
       "      <td>290.13</td>\n",
       "      <td>0.0</td>\n",
       "      <td>0.0</td>\n",
       "      <td>02</td>\n",
       "      <td>10</td>\n",
       "      <td>2012</td>\n",
       "      <td>12</td>\n",
       "      <td>00</td>\n",
       "      <td>00</td>\n",
       "      <td>2.0</td>\n",
       "    </tr>\n",
       "    <tr>\n",
       "      <th>4</th>\n",
       "      <td>291.14</td>\n",
       "      <td>0.0</td>\n",
       "      <td>0.0</td>\n",
       "      <td>02</td>\n",
       "      <td>10</td>\n",
       "      <td>2012</td>\n",
       "      <td>13</td>\n",
       "      <td>00</td>\n",
       "      <td>00</td>\n",
       "      <td>2.0</td>\n",
       "    </tr>\n",
       "  </tbody>\n",
       "</table>\n",
       "</div>"
      ],
      "text/plain": [
       "     temp  rain  snow day month  year hours minutes seconds  weather_encoded\n",
       "0  288.28   0.0   0.0  02    10  2012    09      00      00              2.0\n",
       "1  289.36   0.0   0.0  02    10  2012    10      00      00              2.0\n",
       "2  289.58   0.0   0.0  02    10  2012    11      00      00              2.0\n",
       "3  290.13   0.0   0.0  02    10  2012    12      00      00              2.0\n",
       "4  291.14   0.0   0.0  02    10  2012    13      00      00              2.0"
      ]
     },
     "execution_count": 53,
     "metadata": {},
     "output_type": "execute_result"
    }
   ],
   "source": [
    "X.head()"
   ]
  },
  {
   "cell_type": "code",
   "execution_count": 55,
   "id": "9817d450-00d2-4b7f-98db-3d4f869ac080",
   "metadata": {},
   "outputs": [
    {
     "data": {
      "text/plain": [
       "0    5545\n",
       "1    4516\n",
       "2    4767\n",
       "3    5026\n",
       "4    4918\n",
       "Name: traffic_volume, dtype: int64"
      ]
     },
     "execution_count": 55,
     "metadata": {},
     "output_type": "execute_result"
    }
   ],
   "source": [
    "y.head()"
   ]
  },
  {
   "cell_type": "code",
   "execution_count": 57,
   "id": "e46eaac1-d672-4b8d-b365-4ee95fcef57b",
   "metadata": {},
   "outputs": [
    {
     "name": "stdout",
     "output_type": "stream",
     "text": [
      "<class 'pandas.core.frame.DataFrame'>\n",
      "RangeIndex: 48204 entries, 0 to 48203\n",
      "Data columns (total 11 columns):\n",
      " #   Column           Non-Null Count  Dtype  \n",
      "---  ------           --------------  -----  \n",
      " 0   temp             48204 non-null  float64\n",
      " 1   rain             48204 non-null  float64\n",
      " 2   snow             48204 non-null  float64\n",
      " 3   traffic_volume   48204 non-null  int64  \n",
      " 4   day              48204 non-null  object \n",
      " 5   month            48204 non-null  object \n",
      " 6   year             48204 non-null  object \n",
      " 7   hours            48204 non-null  object \n",
      " 8   minutes          48204 non-null  object \n",
      " 9   seconds          48204 non-null  object \n",
      " 10  weather_encoded  48204 non-null  float64\n",
      "dtypes: float64(4), int64(1), object(6)\n",
      "memory usage: 4.0+ MB\n"
     ]
    }
   ],
   "source": [
    "df.info()"
   ]
  },
  {
   "cell_type": "markdown",
   "id": "d9741330-9835-4c6a-bbc5-414af5451c65",
   "metadata": {},
   "source": [
    "## Feature Engineering ::"
   ]
  },
  {
   "cell_type": "markdown",
   "id": "8ef7f752-498b-4d42-afaa-b33142de50b1",
   "metadata": {},
   "source": [
    "### **converting categorical data to numerical**\n",
    "\n",
    "#### **methods to do so::**\n",
    "\n",
    "#### 1..label encoding\n",
    "\n",
    "#### 2..One-hot encoding\n",
    "\n",
    "#### 3.. Ordinal encoding\n",
    "\n",
    "\n",
    "### **Applying feature scaling to numerical data**\n",
    "\n",
    "#### **methods to do so::**\n",
    "\n",
    "#### 1..Min Max scalar\n",
    "\n",
    "\n",
    "#### 2..Standardization or Z -transform Scalar\n"
   ]
  },
  {
   "cell_type": "code",
   "execution_count": 59,
   "id": "78db3753-e389-4135-9ac6-25d20c76119f",
   "metadata": {},
   "outputs": [
    {
     "name": "stdout",
     "output_type": "stream",
     "text": [
      "<class 'pandas.core.frame.DataFrame'>\n",
      "RangeIndex: 48204 entries, 0 to 48203\n",
      "Data columns (total 11 columns):\n",
      " #   Column           Non-Null Count  Dtype  \n",
      "---  ------           --------------  -----  \n",
      " 0   temp             48204 non-null  float64\n",
      " 1   rain             48204 non-null  float64\n",
      " 2   snow             48204 non-null  float64\n",
      " 3   traffic_volume   48204 non-null  int64  \n",
      " 4   day              48204 non-null  object \n",
      " 5   month            48204 non-null  object \n",
      " 6   year             48204 non-null  object \n",
      " 7   hours            48204 non-null  object \n",
      " 8   minutes          48204 non-null  object \n",
      " 9   seconds          48204 non-null  object \n",
      " 10  weather_encoded  48204 non-null  float64\n",
      "dtypes: float64(4), int64(1), object(6)\n",
      "memory usage: 4.0+ MB\n"
     ]
    }
   ],
   "source": [
    "df.info()"
   ]
  },
  {
   "cell_type": "markdown",
   "id": "69560105-0440-461f-bba6-d1fae1f7cc2d",
   "metadata": {},
   "source": [
    "### using column transformer we can apply both changes at one time"
   ]
  },
  {
   "cell_type": "code",
   "execution_count": 61,
   "id": "b56a575b-4e79-4d93-b810-1298ffc72e82",
   "metadata": {},
   "outputs": [
    {
     "name": "stdout",
     "output_type": "stream",
     "text": [
      "<class 'pandas.core.frame.DataFrame'>\n",
      "RangeIndex: 48204 entries, 0 to 48203\n",
      "Data columns (total 10 columns):\n",
      " #   Column           Non-Null Count  Dtype  \n",
      "---  ------           --------------  -----  \n",
      " 0   temp             48204 non-null  float64\n",
      " 1   rain             48204 non-null  float64\n",
      " 2   snow             48204 non-null  float64\n",
      " 3   day              48204 non-null  object \n",
      " 4   month            48204 non-null  object \n",
      " 5   year             48204 non-null  object \n",
      " 6   hours            48204 non-null  object \n",
      " 7   minutes          48204 non-null  object \n",
      " 8   seconds          48204 non-null  object \n",
      " 9   weather_encoded  48204 non-null  float64\n",
      "dtypes: float64(4), object(6)\n",
      "memory usage: 3.7+ MB\n"
     ]
    }
   ],
   "source": [
    "X.info()"
   ]
  },
  {
   "cell_type": "code",
   "execution_count": 63,
   "id": "36c6010e-9a4d-4a86-8b98-0de723b2d8f2",
   "metadata": {},
   "outputs": [],
   "source": [
    "from sklearn.compose import ColumnTransformer\n",
    "from sklearn.preprocessing import OrdinalEncoder, MinMaxScaler\n",
    "numerical_cols = X.select_dtypes(include='number')\n",
    "categorical_cols =X.select_dtypes(include =\"object\")\n",
    "transformer = ColumnTransformer(\n",
    "    transformers=[\n",
    "        (\"t1\", OrdinalEncoder(), [3,4,5,6,7,8,]),\n",
    "        (\"t2\", MinMaxScaler(), [0,1,2,9]),\n",
    "    ],\n",
    "    remainder=\"passthrough\"  \n",
    ")\n",
    "X_transformed = transformer.fit_transform(X)\n"
   ]
  },
  {
   "cell_type": "markdown",
   "id": "4d895174-7364-47ca-b22f-3dbd060a2cbf",
   "metadata": {},
   "source": [
    "### X_transformed is an array form so,before calling it we have to convert into dataframe "
   ]
  },
  {
   "cell_type": "code",
   "execution_count": 66,
   "id": "6397eb74-054c-4f76-b497-d32c9fd1799f",
   "metadata": {},
   "outputs": [
    {
     "data": {
      "text/plain": [
       "(48204, 10)"
      ]
     },
     "execution_count": 66,
     "metadata": {},
     "output_type": "execute_result"
    }
   ],
   "source": [
    "X_transformed.shape"
   ]
  },
  {
   "cell_type": "code",
   "execution_count": 68,
   "id": "5c5db79a-c442-445b-b015-5263c7340668",
   "metadata": {},
   "outputs": [
    {
     "data": {
      "text/html": [
       "<div>\n",
       "<style scoped>\n",
       "    .dataframe tbody tr th:only-of-type {\n",
       "        vertical-align: middle;\n",
       "    }\n",
       "\n",
       "    .dataframe tbody tr th {\n",
       "        vertical-align: top;\n",
       "    }\n",
       "\n",
       "    .dataframe thead th {\n",
       "        text-align: right;\n",
       "    }\n",
       "</style>\n",
       "<table border=\"1\" class=\"dataframe\">\n",
       "  <thead>\n",
       "    <tr style=\"text-align: right;\">\n",
       "      <th></th>\n",
       "      <th>temp</th>\n",
       "      <th>rain</th>\n",
       "      <th>snow</th>\n",
       "      <th>day</th>\n",
       "      <th>month</th>\n",
       "      <th>year</th>\n",
       "      <th>hours</th>\n",
       "      <th>minutes</th>\n",
       "      <th>seconds</th>\n",
       "      <th>weather_encoded</th>\n",
       "    </tr>\n",
       "  </thead>\n",
       "  <tbody>\n",
       "    <tr>\n",
       "      <th>0</th>\n",
       "      <td>1.0</td>\n",
       "      <td>9.0</td>\n",
       "      <td>0.0</td>\n",
       "      <td>9.0</td>\n",
       "      <td>0.0</td>\n",
       "      <td>0.0</td>\n",
       "      <td>0.929726</td>\n",
       "      <td>0.0</td>\n",
       "      <td>0.0</td>\n",
       "      <td>0.2</td>\n",
       "    </tr>\n",
       "    <tr>\n",
       "      <th>1</th>\n",
       "      <td>1.0</td>\n",
       "      <td>9.0</td>\n",
       "      <td>0.0</td>\n",
       "      <td>10.0</td>\n",
       "      <td>0.0</td>\n",
       "      <td>0.0</td>\n",
       "      <td>0.933209</td>\n",
       "      <td>0.0</td>\n",
       "      <td>0.0</td>\n",
       "      <td>0.2</td>\n",
       "    </tr>\n",
       "    <tr>\n",
       "      <th>2</th>\n",
       "      <td>1.0</td>\n",
       "      <td>9.0</td>\n",
       "      <td>0.0</td>\n",
       "      <td>11.0</td>\n",
       "      <td>0.0</td>\n",
       "      <td>0.0</td>\n",
       "      <td>0.933918</td>\n",
       "      <td>0.0</td>\n",
       "      <td>0.0</td>\n",
       "      <td>0.2</td>\n",
       "    </tr>\n",
       "    <tr>\n",
       "      <th>3</th>\n",
       "      <td>1.0</td>\n",
       "      <td>9.0</td>\n",
       "      <td>0.0</td>\n",
       "      <td>12.0</td>\n",
       "      <td>0.0</td>\n",
       "      <td>0.0</td>\n",
       "      <td>0.935692</td>\n",
       "      <td>0.0</td>\n",
       "      <td>0.0</td>\n",
       "      <td>0.2</td>\n",
       "    </tr>\n",
       "    <tr>\n",
       "      <th>4</th>\n",
       "      <td>1.0</td>\n",
       "      <td>9.0</td>\n",
       "      <td>0.0</td>\n",
       "      <td>13.0</td>\n",
       "      <td>0.0</td>\n",
       "      <td>0.0</td>\n",
       "      <td>0.938949</td>\n",
       "      <td>0.0</td>\n",
       "      <td>0.0</td>\n",
       "      <td>0.2</td>\n",
       "    </tr>\n",
       "  </tbody>\n",
       "</table>\n",
       "</div>"
      ],
      "text/plain": [
       "   temp  rain  snow   day  month  year     hours  minutes  seconds  \\\n",
       "0   1.0   9.0   0.0   9.0    0.0   0.0  0.929726      0.0      0.0   \n",
       "1   1.0   9.0   0.0  10.0    0.0   0.0  0.933209      0.0      0.0   \n",
       "2   1.0   9.0   0.0  11.0    0.0   0.0  0.933918      0.0      0.0   \n",
       "3   1.0   9.0   0.0  12.0    0.0   0.0  0.935692      0.0      0.0   \n",
       "4   1.0   9.0   0.0  13.0    0.0   0.0  0.938949      0.0      0.0   \n",
       "\n",
       "   weather_encoded  \n",
       "0              0.2  \n",
       "1              0.2  \n",
       "2              0.2  \n",
       "3              0.2  \n",
       "4              0.2  "
      ]
     },
     "execution_count": 68,
     "metadata": {},
     "output_type": "execute_result"
    }
   ],
   "source": [
    "X_transformed =pd.DataFrame(X_transformed,columns=X.columns)\n",
    "X_transformed.head()"
   ]
  },
  {
   "cell_type": "code",
   "execution_count": 70,
   "id": "022cc424-8101-4c1c-a5ec-26c46d1ed1a2",
   "metadata": {},
   "outputs": [
    {
     "data": {
      "text/plain": [
       "traffic_volume\n",
       "353     50\n",
       "356     50\n",
       "340     47\n",
       "351     44\n",
       "373     42\n",
       "        ..\n",
       "6953     1\n",
       "2057     1\n",
       "2585     1\n",
       "7118     1\n",
       "2346     1\n",
       "Name: count, Length: 6704, dtype: int64"
      ]
     },
     "execution_count": 70,
     "metadata": {},
     "output_type": "execute_result"
    }
   ],
   "source": [
    "df[\"traffic_volume\"].value_counts()"
   ]
  },
  {
   "cell_type": "markdown",
   "id": "38aaaa21-a8dc-44e9-a65c-91431aaa4d1a",
   "metadata": {},
   "source": [
    "## **Splitting the Dataset into Training and Testing**"
   ]
  },
  {
   "cell_type": "code",
   "execution_count": 73,
   "id": "523cbf23-2001-4a91-bba9-19ab99046a42",
   "metadata": {},
   "outputs": [],
   "source": [
    "from sklearn.model_selection import train_test_split\n",
    "X_train,X_test,y_train,y_test=train_test_split(X_transformed,y,test_size=0.2,random_state=42)"
   ]
  },
  {
   "cell_type": "code",
   "execution_count": 74,
   "id": "3b043f95-4b3f-4b56-b5d7-6dc0ff492368",
   "metadata": {},
   "outputs": [
    {
     "name": "stdout",
     "output_type": "stream",
     "text": [
      "(38563, 10)\n",
      "(38563,)\n",
      "(9641, 10)\n",
      "(9641,)\n"
     ]
    }
   ],
   "source": [
    "print(X_train.shape)\n",
    "print(y_train.shape)\n",
    "print(X_test.shape)\n",
    "print(y_test.shape)"
   ]
  },
  {
   "cell_type": "markdown",
   "id": "cced6b9f-0542-49ea-882d-24f501285596",
   "metadata": {},
   "source": [
    "## **Model Building and Evaluation::**"
   ]
  },
  {
   "cell_type": "code",
   "execution_count": 87,
   "id": "9284110a-5fae-4514-90f5-248658e88a1d",
   "metadata": {},
   "outputs": [
    {
     "name": "stdout",
     "output_type": "stream",
     "text": [
      "Model saved as best_model.pkl\n",
      "R-squared Scores: {'Linear Regression': 0.13831588299264175, 'Decision Tree': 0.6859340215515106, 'Random Forest': 0.8358711640503983, 'Support Vector Regressor': 0.3797810732247532, 'XGBoost': 0.8412762880325317}\n",
      "RMSE Scores: {'Linear Regression': 1845.7193286720908, 'Decision Tree': 1114.2998269058012, 'Random Forest': 805.5343433789848, 'Support Vector Regressor': 1565.9003597307553, 'XGBoost': 792.1593245710633}\n",
      "Best Model: XGBoost\n"
     ]
    }
   ],
   "source": [
    "from sklearn import linear_model, tree, ensemble, svm, metrics\n",
    "import xgboost as xgb\n",
    "import numpy as np\n",
    "import pickle\n",
    "\n",
    "def save_best_model(model, filename=\"best_model.pkl\"):\n",
    "    \"\"\"\n",
    "    Save the best model to a file.\n",
    "    \n",
    "    Args:\n",
    "    model: Trained model to save.\n",
    "    filename: Name of the file to save the model. Default is 'best_model.pkl'.\n",
    "    \"\"\"\n",
    "    with open(filename, 'wb') as file:\n",
    "        pickle.dump(model, file)\n",
    "    print(f\"Model saved as {filename}\")\n",
    "\n",
    "def train_and_evaluate_models(x_train, y_train, x_test, y_test):\n",
    "    # Initialize models\n",
    "    models = {\n",
    "        \"Linear Regression\": linear_model.LinearRegression(),\n",
    "        \"Decision Tree\": tree.DecisionTreeRegressor(),\n",
    "        \"Random Forest\": ensemble.RandomForestRegressor(),\n",
    "        \"Support Vector Regressor\": svm.SVR(),\n",
    "        \"XGBoost\": xgb.XGBRegressor(),\n",
    "    }\n",
    "\n",
    "    # Train models\n",
    "    for name, model in models.items():\n",
    "        model.fit(x_train, y_train)\n",
    "\n",
    "    # Predict on test data\n",
    "    predictions = {name: model.predict(x_test) for name, model in models.items()}\n",
    "\n",
    "    # Calculate R-squared scores\n",
    "    r2_scores = {name: metrics.r2_score(y_test, pred) for name, pred in predictions.items()}\n",
    "\n",
    "    # Calculate RMSE for each model\n",
    "    rmse_scores = {name: np.sqrt(metrics.mean_squared_error(y_test, pred)) for name, pred in predictions.items()}\n",
    "\n",
    "    # Find the best model\n",
    "    best_model_name = max(r2_scores, key=r2_scores.get)\n",
    "    best_model = models[best_model_name]\n",
    "\n",
    "    # Save the best model\n",
    "    save_best_model(best_model, filename=\"best_model.pkl\")\n",
    "\n",
    "    return r2_scores, rmse_scores, best_model_name\n",
    "\n",
    "# Example usage (replace x_train, y_train, x_test, y_test with actual data):\n",
    "r2_scores, rmse_scores, best_model_name = train_and_evaluate_models(X_train, y_train, X_test, y_test)\n",
    "print(\"R-squared Scores:\", r2_scores)\n",
    "print(\"RMSE Scores:\", rmse_scores)\n",
    "print(\"Best Model:\", best_model_name)\n"
   ]
  },
  {
   "cell_type": "code",
   "execution_count": null,
   "id": "aee46dc7-df34-4577-86f1-dcb75b87ca32",
   "metadata": {},
   "outputs": [],
   "source": []
  }
 ],
 "metadata": {
  "kernelspec": {
   "display_name": "Python [conda env:base] *",
   "language": "python",
   "name": "conda-base-py"
  },
  "language_info": {
   "codemirror_mode": {
    "name": "ipython",
    "version": 3
   },
   "file_extension": ".py",
   "mimetype": "text/x-python",
   "name": "python",
   "nbconvert_exporter": "python",
   "pygments_lexer": "ipython3",
   "version": "3.12.7"
  }
 },
 "nbformat": 4,
 "nbformat_minor": 5
}
